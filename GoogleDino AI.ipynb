{
 "cells": [
  {
   "cell_type": "markdown",
   "id": "7f633035",
   "metadata": {},
   "source": [
    "## I. Model Building - Reinforcement Learning"
   ]
  },
  {
   "cell_type": "markdown",
   "id": "d1231333",
   "metadata": {},
   "source": [
    "### 1. Coding Environment"
   ]
  },
  {
   "cell_type": "code",
   "execution_count": null,
   "id": "87606838",
   "metadata": {},
   "outputs": [],
   "source": [
    "# pytorch install\n",
    "!pip install torch torchvision torchaudio --index-url https://download.pytorch.org/whl/cu117"
   ]
  },
  {
   "cell_type": "code",
   "execution_count": null,
   "id": "35ad6d18",
   "metadata": {},
   "outputs": [],
   "source": [
    "# install PyQt5\n",
    "!pip install PyQt5"
   ]
  },
  {
   "cell_type": "code",
   "execution_count": null,
   "id": "25c8c70f",
   "metadata": {},
   "outputs": [],
   "source": [
    "# install WebEngine\n",
    "!pip install PyQtWebEngine"
   ]
  },
  {
   "cell_type": "code",
   "execution_count": null,
   "id": "7e6dc3b3",
   "metadata": {},
   "outputs": [],
   "source": [
    "#install stable baseline3\n",
    "!pip install stable-baselines3[extra] protobuf==3.20.*"
   ]
  },
  {
   "cell_type": "code",
   "execution_count": null,
   "id": "4f6c04cd",
   "metadata": {},
   "outputs": [],
   "source": [
    "!pip install mss pydirectinput pytesseract"
   ]
  },
  {
   "cell_type": "code",
   "execution_count": null,
   "id": "f21b6ab7",
   "metadata": {},
   "outputs": [],
   "source": [
    "!pip install Pillow"
   ]
  },
  {
   "cell_type": "code",
   "execution_count": null,
   "id": "a765b679",
   "metadata": {},
   "outputs": [],
   "source": [
    "# check all packages\n",
    "!pip list"
   ]
  },
  {
   "cell_type": "markdown",
   "id": "31f15910",
   "metadata": {},
   "source": [
    "Skip installation if your workingspace is already satisfied"
   ]
  },
  {
   "cell_type": "code",
   "execution_count": 33,
   "id": "6b0ca5d1",
   "metadata": {},
   "outputs": [],
   "source": [
    "from mss import mss # screen shot\n",
    "import pydirectinput # Sending commands to control the dino\n",
    "import cv2 # Open CV frame processing\n",
    "import numpy as np # calculation\n",
    "import pytesseract # OCR to detect when game is over\n",
    "from matplotlib import pyplot as plt # Visulization\n",
    "import time # Track time and perform pauses\n",
    "from gym import Env # Environment components\n",
    "from gym.spaces import Box, Discrete\n",
    "pytesseract.pytesseract.tesseract_cmd = r'E:\\tesseract\\tesseract.exe'"
   ]
  },
  {
   "cell_type": "markdown",
   "id": "8e8be316",
   "metadata": {},
   "source": [
    "### 2. Game Environment Implementation"
   ]
  },
  {
   "cell_type": "markdown",
   "id": "05db98a3",
   "metadata": {},
   "source": [
    "#### 2.1. Create the Environment"
   ]
  },
  {
   "cell_type": "code",
   "execution_count": 34,
   "id": "55aa22c1",
   "metadata": {},
   "outputs": [],
   "source": [
    "class DinoGame(Env):\n",
    "    def __init__(self): # setup the environment action and observation shapes\n",
    "        # this is a subclass model\n",
    "        super().__init__()\n",
    "        # set up blank canvas for observation spaces we want\n",
    "        self.observation_space = Box(low=0, high=255, shape=(1, 83, 100), dtype=np.uint8) # initialization of the canvas\n",
    "        self.action_space = Discrete(3) # three action agent could do in this game\n",
    "        \n",
    "        # Use mss as our screen capture parameter\n",
    "        self.cap = mss()\n",
    "        \n",
    "        # Two oberservation space we focused on\n",
    "        #self.game_location = {\"top\":500, \"left\": 0, \"width\": 800, \"height\": 600} # 27 inches monitors\n",
    "        self.game_location = {\"top\":400, \"left\": 0, \"width\": 600, \"height\": 400} # 17.3 inches laptop screen\n",
    "        #self.done_location = {\"top\":550, \"left\": 830, \"width\": 900, \"height\": 100} # 27 inches monitors\n",
    "        self.done_location = {\"top\":375, \"left\": 630, \"width\": 650, \"height\": 100} # 17.3 inches laptop screen\n",
    "\n",
    "    def gamespace(self): # get a part of the screen from the game\n",
    "        raw = np.array(self.cap.grab(self.game_location))[:,:,:3].astype(np.uint8) # Raw Game area\n",
    "        gray = cv2.cvtColor(raw, cv2.COLOR_BGR2GRAY)# Grayscaled Game area\n",
    "        channel = np.reshape(cv2.resize(gray, (100,83)), (1,83,100)) # reshape into pytorch and stablebaseline format channel\n",
    "        return channel\n",
    "    \n",
    "    def gameover(self): # Check if game is over\n",
    "        pic = np.array(self.cap.grab(self.done_location))[:,:,:3].astype(np.uint8)\n",
    "        done_strings = ['G']\n",
    "        done=False\n",
    "        text = pytesseract.image_to_string(pic)[:1] # OCR image to word converter\n",
    "        if text in done_strings:\n",
    "            done = True\n",
    "        return done, pic, text\n",
    "    \n",
    "    def step(self, action): # call an action\n",
    "        # Key-Action: Space-Jump, 1-Duck, 2-No action\n",
    "        action_map = {\n",
    "            0: \"space\",\n",
    "            1: \"down\",\n",
    "            2: \"no_op\"\n",
    "        }\n",
    "        if action != 2: # Press a key if we need an action\n",
    "            pydirectinput.press(action_map[action])\n",
    "            \n",
    "        done, pic, text = self.gameover() # Check if game is over\n",
    "        new_observation = self.gamespace() # Get a new dino pic\n",
    "        \n",
    "        #Reward system\n",
    "        \n",
    "        #reward = 1 # one point for each frame being alive\n",
    "        \n",
    "        if not done: # Model 2, reward and penalty\n",
    "            reward = 1\n",
    "        else:\n",
    "            reward = -5\n",
    "            \n",
    "        info = {}\n",
    "        return new_observation, reward, done, info\n",
    "    \n",
    "    def render(self): # Visulization\n",
    "        cv2.imshow('Game', np.array(self.cap.grab(self.game_location))[:,:,:3])\n",
    "        if cv2.waitKey(1) and 0xFF == ord('q'):\n",
    "            self.close()\n",
    "    \n",
    "    def reset(self): # reset the game when die\n",
    "        time.sleep(1)\n",
    "        pydirectinput.click(x=200, y=200)\n",
    "        pydirectinput.press(\"space\")\n",
    "        return self.gamespace()\n",
    "    \n",
    "    def close(self): # close the observation\n",
    "        cv2.destroyAllWindows()"
   ]
  },
  {
   "cell_type": "markdown",
   "id": "6861e655",
   "metadata": {},
   "source": [
    "#### 2.2. Test the Environment"
   ]
  },
  {
   "cell_type": "code",
   "execution_count": 32,
   "id": "9e7fb539",
   "metadata": {},
   "outputs": [],
   "source": [
    "env = DinoGame()"
   ]
  },
  {
   "cell_type": "code",
   "execution_count": 35,
   "id": "3ffd0348",
   "metadata": {},
   "outputs": [
    {
     "data": {
      "text/plain": [
       "<matplotlib.image.AxesImage at 0x1ac8078ef40>"
      ]
     },
     "metadata": {},
     "output_type": "display_data"
    },
    {
     "data": {
      "text/plain": [
       "<matplotlib.image.AxesImage at 0x1ace1ac1910>"
      ]
     },
     "execution_count": 35,
     "metadata": {},
     "output_type": "execute_result"
    },
    {
     "data": {
      "image/png": "[encoded data removed]",
      "text/plain": [
       "<Figure size 640x480 with 1 Axes>"
      ]
     },
     "metadata": {},
     "output_type": "display_data"
    }
   ],
   "source": [
    "display(plt.imshow(cv2.cvtColor(env.gamespace()[0], cv2.COLOR_BGR2RGB)))\n",
    "plt.imshow(env.gamespace()[0])"
   ]
  },
  {
   "cell_type": "code",
   "execution_count": 36,
   "id": "7f2b87d0",
   "metadata": {},
   "outputs": [
    {
     "data": {
      "text/plain": [
       "True"
      ]
     },
     "metadata": {},
     "output_type": "display_data"
    },
    {
     "data": {
      "text/plain": [
       "'G'"
      ]
     },
     "metadata": {},
     "output_type": "display_data"
    },
    {
     "data": {
      "text/plain": [
       "<matplotlib.image.AxesImage at 0x1ac8000dcd0>"
      ]
     },
     "execution_count": 36,
     "metadata": {},
     "output_type": "execute_result"
    },
    {
     "data": {
      "image/png": "[encoded data removed]",
      "text/plain": [
       "<Figure size 640x480 with 1 Axes>"
      ]
     },
     "metadata": {},
     "output_type": "display_data"
    }
   ],
   "source": [
    "done, pic, text = env.gameover()\n",
    "display(done)\n",
    "display(text)\n",
    "plt.imshow(pic)"
   ]
  },
  {
   "cell_type": "code",
   "execution_count": null,
   "id": "f1489535",
   "metadata": {},
   "outputs": [],
   "source": [
    "for episode in range(5): # Play 5 games\n",
    "    obs = env.reset()\n",
    "    done = False\n",
    "    total_reward = 0\n",
    "    while not done:\n",
    "        obs, reward, done, info = env.step(env.action_space.sample())\n",
    "        total_reward += reward\n",
    "    print(f\"Total Reward for episode {episode+1} is {total_reward}\")"
   ]
  },
  {
   "cell_type": "markdown",
   "id": "f8ecfb0b",
   "metadata": {},
   "source": [
    "### 3. Train the Model"
   ]
  },
  {
   "cell_type": "markdown",
   "id": "4f25a7bc",
   "metadata": {},
   "source": [
    "#### 3.1. Create Callback"
   ]
  },
  {
   "cell_type": "code",
   "execution_count": 2,
   "id": "e596bf65",
   "metadata": {},
   "outputs": [],
   "source": [
    "# import more packages\n",
    "import os # for file path\n",
    "from stable_baselines3.common.callbacks import BaseCallback # for saving models\n",
    "from stable_baselines3.common import env_checker # check environment"
   ]
  },
  {
   "cell_type": "code",
   "execution_count": null,
   "id": "7033ede8",
   "metadata": {},
   "outputs": [],
   "source": [
    "env_checker.check_env(env)"
   ]
  },
  {
   "cell_type": "code",
   "execution_count": 37,
   "id": "13e81677",
   "metadata": {},
   "outputs": [],
   "source": [
    "class TrainAndLoggingCallback(BaseCallback): # Completely from online (Nicholas Renotte)\n",
    "\n",
    "    def __init__(self, check_freq, save_path, verbose=1):\n",
    "        super(TrainAndLoggingCallback, self).__init__(verbose)\n",
    "        self.check_freq = check_freq\n",
    "        self.save_path = save_path\n",
    "\n",
    "    def _init_callback(self):\n",
    "        if self.save_path is not None:\n",
    "            os.makedirs(self.save_path, exist_ok=True)\n",
    "\n",
    "    def _on_step(self):\n",
    "        if self.n_calls % self.check_freq == 0:\n",
    "            model_path = os.path.join(self.save_path, 'best_model_{}'.format(self.n_calls))\n",
    "            self.model.save(model_path)\n",
    "\n",
    "        return True"
   ]
  },
  {
   "cell_type": "code",
   "execution_count": 38,
   "id": "ab3d6543",
   "metadata": {},
   "outputs": [],
   "source": [
    "checkpoint_dir = \"./train/new_rew_sys\"\n",
    "log_dir = \"./logs/\""
   ]
  },
  {
   "cell_type": "code",
   "execution_count": 39,
   "id": "57a0e277",
   "metadata": {},
   "outputs": [],
   "source": [
    "callback = TrainAndLoggingCallback(check_freq=1000, save_path = checkpoint_dir)"
   ]
  },
  {
   "cell_type": "markdown",
   "id": "00ce75ad",
   "metadata": {},
   "source": [
    "#### 3.2. Build DQN Model and Train"
   ]
  },
  {
   "cell_type": "code",
   "execution_count": 40,
   "id": "cd14e9e2",
   "metadata": {},
   "outputs": [],
   "source": [
    "from stable_baselines3 import DQN # DQN algorithm"
   ]
  },
  {
   "cell_type": "code",
   "execution_count": 41,
   "id": "cffd85be",
   "metadata": {},
   "outputs": [
    {
     "name": "stdout",
     "output_type": "stream",
     "text": [
      "Using cuda device\n",
      "Wrapping the env with a `Monitor` wrapper\n",
      "Wrapping the env in a DummyVecEnv.\n"
     ]
    },
    {
     "name": "stderr",
     "output_type": "stream",
     "text": [
      "E:\\AnaConda\\lib\\site-packages\\stable_baselines3\\common\\buffers.py:229: UserWarning: This system does not have apparently enough memory to store the complete replay buffer 6.98GB > 2.22GB\n",
      "  warnings.warn(\n"
     ]
    }
   ],
   "source": [
    "model = DQN(\"CnnPolicy\", \n",
    "            env, \n",
    "            tensorboard_log=log_dir,\n",
    "            verbose=1, \n",
    "            buffer_size=420000, \n",
    "            learning_starts=1000)"
   ]
  },
  {
   "cell_type": "code",
   "execution_count": null,
   "id": "0c5dfb59",
   "metadata": {},
   "outputs": [],
   "source": [
    "model.learn(total_timesteps=100000, callback=callback)"
   ]
  },
  {
   "cell_type": "code",
   "execution_count": 44,
   "id": "35833bef",
   "metadata": {},
   "outputs": [
    {
     "name": "stderr",
     "output_type": "stream",
     "text": [
      "E:\\AnaConda\\lib\\site-packages\\stable_baselines3\\common\\buffers.py:229: UserWarning: This system does not have apparently enough memory to store the complete replay buffer 6.98GB > 2.32GB\n",
      "  warnings.warn(\n"
     ]
    }
   ],
   "source": [
    "# Under trained model\n",
    "model = DQN.load(os.path.join(\"train\", \"best_model_10000\"))"
   ]
  },
  {
   "cell_type": "code",
   "execution_count": 46,
   "id": "bd96e774",
   "metadata": {},
   "outputs": [
    {
     "name": "stderr",
     "output_type": "stream",
     "text": [
      "E:\\AnaConda\\lib\\site-packages\\stable_baselines3\\common\\buffers.py:229: UserWarning: This system does not have apparently enough memory to store the complete replay buffer 6.98GB > 2.33GB\n",
      "  warnings.warn(\n"
     ]
    }
   ],
   "source": [
    "# Well performed model\n",
    "model = DQN.load(os.path.join(\"train\", \"best_model_57000\"))"
   ]
  },
  {
   "cell_type": "code",
   "execution_count": 47,
   "id": "c4605909",
   "metadata": {},
   "outputs": [
    {
     "name": "stdout",
     "output_type": "stream",
     "text": [
      "Total Reward for episode 1 is 20\n",
      "Total Reward for episode 2 is 24\n",
      "Total Reward for episode 3 is 67\n"
     ]
    }
   ],
   "source": [
    "for episode in range(3): \n",
    "    obs = env.reset()\n",
    "    done = False\n",
    "    total_reward = 0\n",
    "    while not done: \n",
    "        action, _ = model.predict(obs)\n",
    "        obs, reward, done, info = env.step(int(action))\n",
    "        #time.sleep(0.01)\n",
    "        total_reward += reward\n",
    "    print('Total Reward for episode {} is {}'.format(episode+1, total_reward))\n",
    "    #time.sleep(2)"
   ]
  },
  {
   "cell_type": "markdown",
   "id": "4275cddf",
   "metadata": {},
   "source": [
    "### 4. Training log visulization"
   ]
  },
  {
   "cell_type": "code",
   "execution_count": 4,
   "id": "0bc73fc7",
   "metadata": {},
   "outputs": [],
   "source": [
    "%load_ext tensorboard"
   ]
  },
  {
   "cell_type": "code",
   "execution_count": 7,
   "id": "96514563",
   "metadata": {},
   "outputs": [
    {
     "data": {
      "text/plain": [
       "Reusing TensorBoard on port 6006 (pid 12952), started 0:39:34 ago. (Use '!kill 12952' to kill it.)"
      ]
     },
     "metadata": {},
     "output_type": "display_data"
    },
    {
     "data": {
      "text/html": [
       "\n",
       "      <iframe id=\"tensorboard-frame-d33f90bf047cfdc4\" width=\"100%\" height=\"800\" frameborder=\"0\">\n",
       "      </iframe>\n",
       "      <script>\n",
       "        (function() {\n",
       "          const frame = document.getElementById(\"tensorboard-frame-d33f90bf047cfdc4\");\n",
       "          const url = new URL(\"/\", window.location);\n",
       "          const port = 6006;\n",
       "          if (port) {\n",
       "            url.port = port;\n",
       "          }\n",
       "          frame.src = url;\n",
       "        })();\n",
       "      </script>\n",
       "    "
      ],
      "text/plain": [
       "<IPython.core.display.HTML object>"
      ]
     },
     "metadata": {},
     "output_type": "display_data"
    }
   ],
   "source": [
    "%tensorboard --logdir ./logs/ --port=6006"
   ]
  },
  {
   "cell_type": "code",
   "execution_count": null,
   "id": "4ddb9f4c",
   "metadata": {},
   "outputs": [],
   "source": []
  }
 ],
 "metadata": {
  "kernelspec": {
   "display_name": "Python 3 (ipykernel)",
   "language": "python",
   "name": "python3"
  },
  "language_info": {
   "codemirror_mode": {
    "name": "ipython",
    "version": 3
   },
   "file_extension": ".py",
   "mimetype": "text/x-python",
   "name": "python",
   "nbconvert_exporter": "python",
   "pygments_lexer": "ipython3",
   "version": "3.9.13"
  }
 },
 "nbformat": 4,
 "nbformat_minor": 5
}
